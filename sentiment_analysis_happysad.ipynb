{
  "cells": [
    {
      "cell_type": "code",
      "execution_count": 1,
      "metadata": {
        "colab": {
          "base_uri": "https://localhost:8080/"
        },
        "id": "lY4dPVnT7N7E",
        "outputId": "39d96fc3-ebf2-431f-e693-087fa00b1112"
      },
      "outputs": [
        {
          "output_type": "stream",
          "name": "stdout",
          "text": [
            "Collecting emoji\n",
            "  Downloading emoji-2.15.0-py3-none-any.whl.metadata (5.7 kB)\n",
            "Downloading emoji-2.15.0-py3-none-any.whl (608 kB)\n",
            "\u001b[2K   \u001b[90m━━━━━━━━━━━━━━━━━━━━━━━━━━━━━━━━━━━━━━━━\u001b[0m \u001b[32m608.4/608.4 kB\u001b[0m \u001b[31m7.4 MB/s\u001b[0m eta \u001b[36m0:00:00\u001b[0m\n",
            "\u001b[?25hInstalling collected packages: emoji\n",
            "Successfully installed emoji-2.15.0\n"
          ]
        }
      ],
      "source": [
        "!pip install emoji"
      ]
    },
    {
      "cell_type": "code",
      "execution_count": 2,
      "metadata": {
        "colab": {
          "base_uri": "https://localhost:8080/"
        },
        "id": "wYDZofvNZ4VB",
        "outputId": "7a1df2c5-68e1-4679-a071-119c3fcc0f4b"
      },
      "outputs": [
        {
          "output_type": "stream",
          "name": "stdout",
          "text": [
            "Collecting contractions\n",
            "  Downloading contractions-0.1.73-py2.py3-none-any.whl.metadata (1.2 kB)\n",
            "Collecting textsearch>=0.0.21 (from contractions)\n",
            "  Downloading textsearch-0.0.24-py2.py3-none-any.whl.metadata (1.2 kB)\n",
            "Collecting anyascii (from textsearch>=0.0.21->contractions)\n",
            "  Downloading anyascii-0.3.3-py3-none-any.whl.metadata (1.6 kB)\n",
            "Collecting pyahocorasick (from textsearch>=0.0.21->contractions)\n",
            "  Downloading pyahocorasick-2.2.0-cp312-cp312-manylinux_2_17_x86_64.manylinux2014_x86_64.whl.metadata (13 kB)\n",
            "Downloading contractions-0.1.73-py2.py3-none-any.whl (8.7 kB)\n",
            "Downloading textsearch-0.0.24-py2.py3-none-any.whl (7.6 kB)\n",
            "Downloading anyascii-0.3.3-py3-none-any.whl (345 kB)\n",
            "\u001b[2K   \u001b[90m━━━━━━━━━━━━━━━━━━━━━━━━━━━━━━━━━━━━━━━━\u001b[0m \u001b[32m345.1/345.1 kB\u001b[0m \u001b[31m5.7 MB/s\u001b[0m eta \u001b[36m0:00:00\u001b[0m\n",
            "\u001b[?25hDownloading pyahocorasick-2.2.0-cp312-cp312-manylinux_2_17_x86_64.manylinux2014_x86_64.whl (114 kB)\n",
            "\u001b[2K   \u001b[90m━━━━━━━━━━━━━━━━━━━━━━━━━━━━━━━━━━━━━━━━\u001b[0m \u001b[32m114.9/114.9 kB\u001b[0m \u001b[31m9.7 MB/s\u001b[0m eta \u001b[36m0:00:00\u001b[0m\n",
            "\u001b[?25hInstalling collected packages: pyahocorasick, anyascii, textsearch, contractions\n",
            "Successfully installed anyascii-0.3.3 contractions-0.1.73 pyahocorasick-2.2.0 textsearch-0.0.24\n"
          ]
        }
      ],
      "source": [
        "!pip install contractions"
      ]
    },
    {
      "cell_type": "code",
      "execution_count": 3,
      "metadata": {
        "colab": {
          "base_uri": "https://localhost:8080/"
        },
        "id": "QHnpaMLcaxvE",
        "outputId": "275fbf67-2a77-4430-a0b7-0898e1ebaa04"
      },
      "outputs": [
        {
          "output_type": "stream",
          "name": "stdout",
          "text": [
            "Requirement already satisfied: transformers in /usr/local/lib/python3.12/dist-packages (4.57.0)\n",
            "Requirement already satisfied: filelock in /usr/local/lib/python3.12/dist-packages (from transformers) (3.20.0)\n",
            "Requirement already satisfied: huggingface-hub<1.0,>=0.34.0 in /usr/local/lib/python3.12/dist-packages (from transformers) (0.35.3)\n",
            "Requirement already satisfied: numpy>=1.17 in /usr/local/lib/python3.12/dist-packages (from transformers) (2.0.2)\n",
            "Requirement already satisfied: packaging>=20.0 in /usr/local/lib/python3.12/dist-packages (from transformers) (25.0)\n",
            "Requirement already satisfied: pyyaml>=5.1 in /usr/local/lib/python3.12/dist-packages (from transformers) (6.0.3)\n",
            "Requirement already satisfied: regex!=2019.12.17 in /usr/local/lib/python3.12/dist-packages (from transformers) (2024.11.6)\n",
            "Requirement already satisfied: requests in /usr/local/lib/python3.12/dist-packages (from transformers) (2.32.4)\n",
            "Requirement already satisfied: tokenizers<=0.23.0,>=0.22.0 in /usr/local/lib/python3.12/dist-packages (from transformers) (0.22.1)\n",
            "Requirement already satisfied: safetensors>=0.4.3 in /usr/local/lib/python3.12/dist-packages (from transformers) (0.6.2)\n",
            "Requirement already satisfied: tqdm>=4.27 in /usr/local/lib/python3.12/dist-packages (from transformers) (4.67.1)\n",
            "Requirement already satisfied: fsspec>=2023.5.0 in /usr/local/lib/python3.12/dist-packages (from huggingface-hub<1.0,>=0.34.0->transformers) (2025.3.0)\n",
            "Requirement already satisfied: typing-extensions>=3.7.4.3 in /usr/local/lib/python3.12/dist-packages (from huggingface-hub<1.0,>=0.34.0->transformers) (4.15.0)\n",
            "Requirement already satisfied: hf-xet<2.0.0,>=1.1.3 in /usr/local/lib/python3.12/dist-packages (from huggingface-hub<1.0,>=0.34.0->transformers) (1.1.10)\n",
            "Requirement already satisfied: charset_normalizer<4,>=2 in /usr/local/lib/python3.12/dist-packages (from requests->transformers) (3.4.3)\n",
            "Requirement already satisfied: idna<4,>=2.5 in /usr/local/lib/python3.12/dist-packages (from requests->transformers) (3.10)\n",
            "Requirement already satisfied: urllib3<3,>=1.21.1 in /usr/local/lib/python3.12/dist-packages (from requests->transformers) (2.5.0)\n",
            "Requirement already satisfied: certifi>=2017.4.17 in /usr/local/lib/python3.12/dist-packages (from requests->transformers) (2025.10.5)\n"
          ]
        }
      ],
      "source": [
        "!pip install -U transformers\n"
      ]
    },
    {
      "cell_type": "markdown",
      "metadata": {
        "id": "FVCW3tse6oWE"
      },
      "source": [
        "\n",
        "---\n",
        "\n",
        "Step 1: Import Libraries\n",
        "\n",
        "\n",
        "---\n",
        "\n",
        "\n",
        "*  Data handling: pandas, numpy\n",
        "*  Text processing: re, emoji\n",
        "*  Machine learning (scikit-learn): train_test_split, TfidfVectorizer, CountVectorizer, LogisticRegression, SVC, accuracy_score, classification_report\n",
        "*  Deep learning (TensorFlow/Keras): tensorflow, Tokenizer, pad_sequences, to_categorical\n",
        "*  Transformers (Hugging Face): BertTokenizer, TFBertForSequenceClassification\n",
        "CountVectorizer, LogisticRegression, SVC, accuracy_score, classification_report"
      ]
    },
    {
      "cell_type": "code",
      "execution_count": 76,
      "metadata": {
        "id": "PEwZwJeb3BgQ"
      },
      "outputs": [],
      "source": [
        "# ==========================\n",
        "# Standard Python Libraries\n",
        "# ==========================\n",
        "import os\n",
        "import re\n",
        "import pickle\n",
        "import joblib\n",
        "\n",
        "# ==========================\n",
        "# Data Handling & Analysis\n",
        "# ==========================\n",
        "import pandas as pd\n",
        "import numpy as np\n",
        "\n",
        "# ==========================\n",
        "# Visualization\n",
        "# ==========================\n",
        "import matplotlib.pyplot as plt\n",
        "import seaborn as sns\n",
        "\n",
        "# ==========================\n",
        "# Preprocessing & Feature Extraction\n",
        "# ==========================\n",
        "import emoji\n",
        "import contractions\n",
        "from sklearn.preprocessing import LabelEncoder\n",
        "from sklearn.model_selection import train_test_split\n",
        "from sklearn.feature_extraction.text import TfidfVectorizer, CountVectorizer\n",
        "\n",
        "# ==========================\n",
        "# Classical ML Models\n",
        "# ==========================\n",
        "from sklearn.linear_model import LogisticRegression\n",
        "from sklearn.svm import SVC, LinearSVC\n",
        "from sklearn.metrics import accuracy_score, classification_report\n",
        "\n",
        "# ==========================\n",
        "# TensorFlow / Keras (for LSTM)\n",
        "# ==========================\n",
        "import tensorflow as tf\n",
        "from tensorflow.keras.preprocessing.text import Tokenizer\n",
        "from tensorflow.keras.preprocessing.sequence import pad_sequences\n",
        "from tensorflow.keras.utils import to_categorical\n",
        "from tensorflow.keras.models import Sequential, load_model\n",
        "from tensorflow.keras.layers import Embedding, LSTM, Dense, Dropout\n",
        "\n",
        "# ==========================\n",
        "# Hugging Face Transformers (PyTorch)\n",
        "# ==========================\n",
        "import torch\n",
        "from torch.utils.data import DataLoader\n",
        "from transformers import DistilBertTokenizer, DistilBertForSequenceClassification, get_scheduler\n",
        "from torch.optim import AdamW\n",
        "from datasets import Dataset\n",
        "from tqdm import tqdm\n"
      ]
    },
    {
      "cell_type": "markdown",
      "metadata": {
        "id": "2gF1Lmm64quN"
      },
      "source": [
        "\n",
        "\n",
        "---\n",
        "\n",
        "\n",
        "Step 2: Load Dataset\n",
        "\n",
        "---\n",
        "\n"
      ]
    },
    {
      "cell_type": "code",
      "execution_count": null,
      "metadata": {
        "id": "h_FLzbtNJYTE"
      },
      "outputs": [],
      "source": [
        "# Load your CSV dataset\n",
        "df = pd.read_csv('semtiment140_analysis_dataset.csv', encoding='latin-1', header=None)\n",
        "\n",
        "# Rename columns for easier handling\n",
        "df.columns = ['sentiment', 'id', 'date', 'query', 'user', 'text']\n",
        "\n",
        "# Map sentiment 0 -> negative, 4 -> positive\n",
        "df['sentiment'] = df['sentiment'].map({0: 'negative', 4: 'positive'})\n"
      ]
    },
    {
      "cell_type": "code",
      "execution_count": null,
      "metadata": {
        "colab": {
          "base_uri": "https://localhost:8080/",
          "height": 206
        },
        "id": "ZXtwt_hMvmFH",
        "outputId": "1b1eb473-2f77-4d6f-a490-70cea2b1b695"
      },
      "outputs": [
        {
          "data": {
            "application/vnd.google.colaboratory.intrinsic+json": {
              "type": "dataframe",
              "variable_name": "df"
            },
            "text/html": [
              "\n",
              "  <div id=\"df-61e095c3-4be9-421f-aa6a-5cc1b076a5e8\" class=\"colab-df-container\">\n",
              "    <div>\n",
              "<style scoped>\n",
              "    .dataframe tbody tr th:only-of-type {\n",
              "        vertical-align: middle;\n",
              "    }\n",
              "\n",
              "    .dataframe tbody tr th {\n",
              "        vertical-align: top;\n",
              "    }\n",
              "\n",
              "    .dataframe thead th {\n",
              "        text-align: right;\n",
              "    }\n",
              "</style>\n",
              "<table border=\"1\" class=\"dataframe\">\n",
              "  <thead>\n",
              "    <tr style=\"text-align: right;\">\n",
              "      <th></th>\n",
              "      <th>sentiment</th>\n",
              "      <th>id</th>\n",
              "      <th>date</th>\n",
              "      <th>query</th>\n",
              "      <th>user</th>\n",
              "      <th>text</th>\n",
              "    </tr>\n",
              "  </thead>\n",
              "  <tbody>\n",
              "    <tr>\n",
              "      <th>0</th>\n",
              "      <td>negative</td>\n",
              "      <td>1467810369</td>\n",
              "      <td>Mon Apr 06 22:19:45 PDT 2009</td>\n",
              "      <td>NO_QUERY</td>\n",
              "      <td>_TheSpecialOne_</td>\n",
              "      <td>@switchfoot http://twitpic.com/2y1zl - Awww, t...</td>\n",
              "    </tr>\n",
              "    <tr>\n",
              "      <th>1</th>\n",
              "      <td>negative</td>\n",
              "      <td>1467810672</td>\n",
              "      <td>Mon Apr 06 22:19:49 PDT 2009</td>\n",
              "      <td>NO_QUERY</td>\n",
              "      <td>scotthamilton</td>\n",
              "      <td>is upset that he can't update his Facebook by ...</td>\n",
              "    </tr>\n",
              "    <tr>\n",
              "      <th>2</th>\n",
              "      <td>negative</td>\n",
              "      <td>1467810917</td>\n",
              "      <td>Mon Apr 06 22:19:53 PDT 2009</td>\n",
              "      <td>NO_QUERY</td>\n",
              "      <td>mattycus</td>\n",
              "      <td>@Kenichan I dived many times for the ball. Man...</td>\n",
              "    </tr>\n",
              "    <tr>\n",
              "      <th>3</th>\n",
              "      <td>negative</td>\n",
              "      <td>1467811184</td>\n",
              "      <td>Mon Apr 06 22:19:57 PDT 2009</td>\n",
              "      <td>NO_QUERY</td>\n",
              "      <td>ElleCTF</td>\n",
              "      <td>my whole body feels itchy and like its on fire</td>\n",
              "    </tr>\n",
              "    <tr>\n",
              "      <th>4</th>\n",
              "      <td>negative</td>\n",
              "      <td>1467811193</td>\n",
              "      <td>Mon Apr 06 22:19:57 PDT 2009</td>\n",
              "      <td>NO_QUERY</td>\n",
              "      <td>Karoli</td>\n",
              "      <td>@nationwideclass no, it's not behaving at all....</td>\n",
              "    </tr>\n",
              "  </tbody>\n",
              "</table>\n",
              "</div>\n",
              "    <div class=\"colab-df-buttons\">\n",
              "\n",
              "  <div class=\"colab-df-container\">\n",
              "    <button class=\"colab-df-convert\" onclick=\"convertToInteractive('df-61e095c3-4be9-421f-aa6a-5cc1b076a5e8')\"\n",
              "            title=\"Convert this dataframe to an interactive table.\"\n",
              "            style=\"display:none;\">\n",
              "\n",
              "  <svg xmlns=\"http://www.w3.org/2000/svg\" height=\"24px\" viewBox=\"0 -960 960 960\">\n",
              "    <path d=\"M120-120v-720h720v720H120Zm60-500h600v-160H180v160Zm220 220h160v-160H400v160Zm0 220h160v-160H400v160ZM180-400h160v-160H180v160Zm440 0h160v-160H620v160ZM180-180h160v-160H180v160Zm440 0h160v-160H620v160Z\"/>\n",
              "  </svg>\n",
              "    </button>\n",
              "\n",
              "  <style>\n",
              "    .colab-df-container {\n",
              "      display:flex;\n",
              "      gap: 12px;\n",
              "    }\n",
              "\n",
              "    .colab-df-convert {\n",
              "      background-color: #E8F0FE;\n",
              "      border: none;\n",
              "      border-radius: 50%;\n",
              "      cursor: pointer;\n",
              "      display: none;\n",
              "      fill: #1967D2;\n",
              "      height: 32px;\n",
              "      padding: 0 0 0 0;\n",
              "      width: 32px;\n",
              "    }\n",
              "\n",
              "    .colab-df-convert:hover {\n",
              "      background-color: #E2EBFA;\n",
              "      box-shadow: 0px 1px 2px rgba(60, 64, 67, 0.3), 0px 1px 3px 1px rgba(60, 64, 67, 0.15);\n",
              "      fill: #174EA6;\n",
              "    }\n",
              "\n",
              "    .colab-df-buttons div {\n",
              "      margin-bottom: 4px;\n",
              "    }\n",
              "\n",
              "    [theme=dark] .colab-df-convert {\n",
              "      background-color: #3B4455;\n",
              "      fill: #D2E3FC;\n",
              "    }\n",
              "\n",
              "    [theme=dark] .colab-df-convert:hover {\n",
              "      background-color: #434B5C;\n",
              "      box-shadow: 0px 1px 3px 1px rgba(0, 0, 0, 0.15);\n",
              "      filter: drop-shadow(0px 1px 2px rgba(0, 0, 0, 0.3));\n",
              "      fill: #FFFFFF;\n",
              "    }\n",
              "  </style>\n",
              "\n",
              "    <script>\n",
              "      const buttonEl =\n",
              "        document.querySelector('#df-61e095c3-4be9-421f-aa6a-5cc1b076a5e8 button.colab-df-convert');\n",
              "      buttonEl.style.display =\n",
              "        google.colab.kernel.accessAllowed ? 'block' : 'none';\n",
              "\n",
              "      async function convertToInteractive(key) {\n",
              "        const element = document.querySelector('#df-61e095c3-4be9-421f-aa6a-5cc1b076a5e8');\n",
              "        const dataTable =\n",
              "          await google.colab.kernel.invokeFunction('convertToInteractive',\n",
              "                                                    [key], {});\n",
              "        if (!dataTable) return;\n",
              "\n",
              "        const docLinkHtml = 'Like what you see? Visit the ' +\n",
              "          '<a target=\"_blank\" href=https://colab.research.google.com/notebooks/data_table.ipynb>data table notebook</a>'\n",
              "          + ' to learn more about interactive tables.';\n",
              "        element.innerHTML = '';\n",
              "        dataTable['output_type'] = 'display_data';\n",
              "        await google.colab.output.renderOutput(dataTable, element);\n",
              "        const docLink = document.createElement('div');\n",
              "        docLink.innerHTML = docLinkHtml;\n",
              "        element.appendChild(docLink);\n",
              "      }\n",
              "    </script>\n",
              "  </div>\n",
              "\n",
              "\n",
              "    <div id=\"df-1a4abf1e-d301-4d6e-b591-cbc783e945fb\">\n",
              "      <button class=\"colab-df-quickchart\" onclick=\"quickchart('df-1a4abf1e-d301-4d6e-b591-cbc783e945fb')\"\n",
              "                title=\"Suggest charts\"\n",
              "                style=\"display:none;\">\n",
              "\n",
              "<svg xmlns=\"http://www.w3.org/2000/svg\" height=\"24px\"viewBox=\"0 0 24 24\"\n",
              "     width=\"24px\">\n",
              "    <g>\n",
              "        <path d=\"M19 3H5c-1.1 0-2 .9-2 2v14c0 1.1.9 2 2 2h14c1.1 0 2-.9 2-2V5c0-1.1-.9-2-2-2zM9 17H7v-7h2v7zm4 0h-2V7h2v10zm4 0h-2v-4h2v4z\"/>\n",
              "    </g>\n",
              "</svg>\n",
              "      </button>\n",
              "\n",
              "<style>\n",
              "  .colab-df-quickchart {\n",
              "      --bg-color: #E8F0FE;\n",
              "      --fill-color: #1967D2;\n",
              "      --hover-bg-color: #E2EBFA;\n",
              "      --hover-fill-color: #174EA6;\n",
              "      --disabled-fill-color: #AAA;\n",
              "      --disabled-bg-color: #DDD;\n",
              "  }\n",
              "\n",
              "  [theme=dark] .colab-df-quickchart {\n",
              "      --bg-color: #3B4455;\n",
              "      --fill-color: #D2E3FC;\n",
              "      --hover-bg-color: #434B5C;\n",
              "      --hover-fill-color: #FFFFFF;\n",
              "      --disabled-bg-color: #3B4455;\n",
              "      --disabled-fill-color: #666;\n",
              "  }\n",
              "\n",
              "  .colab-df-quickchart {\n",
              "    background-color: var(--bg-color);\n",
              "    border: none;\n",
              "    border-radius: 50%;\n",
              "    cursor: pointer;\n",
              "    display: none;\n",
              "    fill: var(--fill-color);\n",
              "    height: 32px;\n",
              "    padding: 0;\n",
              "    width: 32px;\n",
              "  }\n",
              "\n",
              "  .colab-df-quickchart:hover {\n",
              "    background-color: var(--hover-bg-color);\n",
              "    box-shadow: 0 1px 2px rgba(60, 64, 67, 0.3), 0 1px 3px 1px rgba(60, 64, 67, 0.15);\n",
              "    fill: var(--button-hover-fill-color);\n",
              "  }\n",
              "\n",
              "  .colab-df-quickchart-complete:disabled,\n",
              "  .colab-df-quickchart-complete:disabled:hover {\n",
              "    background-color: var(--disabled-bg-color);\n",
              "    fill: var(--disabled-fill-color);\n",
              "    box-shadow: none;\n",
              "  }\n",
              "\n",
              "  .colab-df-spinner {\n",
              "    border: 2px solid var(--fill-color);\n",
              "    border-color: transparent;\n",
              "    border-bottom-color: var(--fill-color);\n",
              "    animation:\n",
              "      spin 1s steps(1) infinite;\n",
              "  }\n",
              "\n",
              "  @keyframes spin {\n",
              "    0% {\n",
              "      border-color: transparent;\n",
              "      border-bottom-color: var(--fill-color);\n",
              "      border-left-color: var(--fill-color);\n",
              "    }\n",
              "    20% {\n",
              "      border-color: transparent;\n",
              "      border-left-color: var(--fill-color);\n",
              "      border-top-color: var(--fill-color);\n",
              "    }\n",
              "    30% {\n",
              "      border-color: transparent;\n",
              "      border-left-color: var(--fill-color);\n",
              "      border-top-color: var(--fill-color);\n",
              "      border-right-color: var(--fill-color);\n",
              "    }\n",
              "    40% {\n",
              "      border-color: transparent;\n",
              "      border-right-color: var(--fill-color);\n",
              "      border-top-color: var(--fill-color);\n",
              "    }\n",
              "    60% {\n",
              "      border-color: transparent;\n",
              "      border-right-color: var(--fill-color);\n",
              "    }\n",
              "    80% {\n",
              "      border-color: transparent;\n",
              "      border-right-color: var(--fill-color);\n",
              "      border-bottom-color: var(--fill-color);\n",
              "    }\n",
              "    90% {\n",
              "      border-color: transparent;\n",
              "      border-bottom-color: var(--fill-color);\n",
              "    }\n",
              "  }\n",
              "</style>\n",
              "\n",
              "      <script>\n",
              "        async function quickchart(key) {\n",
              "          const quickchartButtonEl =\n",
              "            document.querySelector('#' + key + ' button');\n",
              "          quickchartButtonEl.disabled = true;  // To prevent multiple clicks.\n",
              "          quickchartButtonEl.classList.add('colab-df-spinner');\n",
              "          try {\n",
              "            const charts = await google.colab.kernel.invokeFunction(\n",
              "                'suggestCharts', [key], {});\n",
              "          } catch (error) {\n",
              "            console.error('Error during call to suggestCharts:', error);\n",
              "          }\n",
              "          quickchartButtonEl.classList.remove('colab-df-spinner');\n",
              "          quickchartButtonEl.classList.add('colab-df-quickchart-complete');\n",
              "        }\n",
              "        (() => {\n",
              "          let quickchartButtonEl =\n",
              "            document.querySelector('#df-1a4abf1e-d301-4d6e-b591-cbc783e945fb button');\n",
              "          quickchartButtonEl.style.display =\n",
              "            google.colab.kernel.accessAllowed ? 'block' : 'none';\n",
              "        })();\n",
              "      </script>\n",
              "    </div>\n",
              "\n",
              "    </div>\n",
              "  </div>\n"
            ],
            "text/plain": [
              "  sentiment          id                          date     query  \\\n",
              "0  negative  1467810369  Mon Apr 06 22:19:45 PDT 2009  NO_QUERY   \n",
              "1  negative  1467810672  Mon Apr 06 22:19:49 PDT 2009  NO_QUERY   \n",
              "2  negative  1467810917  Mon Apr 06 22:19:53 PDT 2009  NO_QUERY   \n",
              "3  negative  1467811184  Mon Apr 06 22:19:57 PDT 2009  NO_QUERY   \n",
              "4  negative  1467811193  Mon Apr 06 22:19:57 PDT 2009  NO_QUERY   \n",
              "\n",
              "              user                                               text  \n",
              "0  _TheSpecialOne_  @switchfoot http://twitpic.com/2y1zl - Awww, t...  \n",
              "1    scotthamilton  is upset that he can't update his Facebook by ...  \n",
              "2         mattycus  @Kenichan I dived many times for the ball. Man...  \n",
              "3          ElleCTF    my whole body feels itchy and like its on fire   \n",
              "4           Karoli  @nationwideclass no, it's not behaving at all....  "
            ]
          },
          "execution_count": 12,
          "metadata": {},
          "output_type": "execute_result"
        }
      ],
      "source": [
        "df.shape\n",
        "df.head()"
      ]
    },
    {
      "cell_type": "markdown",
      "metadata": {
        "id": "xl5Kiywq4kxH"
      },
      "source": [
        "---\n",
        "**Step 3: Clean Text & Handle Emojis**\n",
        "\n",
        "\n",
        "---\n",
        "\n",
        "\n",
        "*  Remove URLs, mentions, hashtags, special characters\n",
        "*  Convert emojis to descriptive text (emoji.demojize)\n",
        "*  Expand contractions\n",
        "\n",
        "\n",
        "\n",
        "\n"
      ]
    },
    {
      "cell_type": "code",
      "execution_count": null,
      "metadata": {
        "id": "JywMsTeZ4MX5"
      },
      "outputs": [],
      "source": [
        "def clean_text(text):\n",
        "    # 1️⃣ Convert emojis to descriptive text\n",
        "    text = emoji.demojize(text)\n",
        "\n",
        "    # 2️⃣ Expand contractions (e.g., \"don't\" -> \"do not\")\n",
        "    text = contractions.fix(text)\n",
        "\n",
        "    # 3️⃣ Lowercase everything\n",
        "    text = text.lower()\n",
        "\n",
        "    # 4️⃣ Remove URLs, mentions, hashtags\n",
        "    text = re.sub(r\"http\\S+|www\\S+|https\\S+\", '', text)\n",
        "    text = re.sub(r\"@\\w+\", '', text)\n",
        "    text = re.sub(r\"#\\w+\", '', text)\n",
        "\n",
        "    # 5️⃣ Replace numbers with a token (optional but helpful)\n",
        "    text = re.sub(r'\\d+', '<num>', text)\n",
        "\n",
        "    # 6️⃣ Keep letters, numbers, spaces, basic punctuation, and emoji codes\n",
        "    #    (keeping ! ? : since they show emotion or emoji codes)\n",
        "    text = re.sub(r\"[^a-zA-Z0-9\\s:!?]\", '', text)\n",
        "\n",
        "    # 7️⃣ Replace multiple exclamation/question marks with single ones (normalize)\n",
        "    text = re.sub(r'!{2,}', '!', text)\n",
        "    text = re.sub(r'\\?{2,}', '?', text)\n",
        "\n",
        "    # 8️⃣ Remove extra spaces\n",
        "    text = re.sub(r'\\s+', ' ', text).strip()\n",
        "\n",
        "    return text\n"
      ]
    },
    {
      "cell_type": "markdown",
      "metadata": {
        "id": "ieQPJPzC7r4A"
      },
      "source": [
        "\n",
        "\n",
        "---\n",
        "\n",
        "\n",
        "Step 4: Split\n",
        "\n",
        "---\n",
        "\n"
      ]
    },
    {
      "cell_type": "code",
      "execution_count": null,
      "metadata": {
        "colab": {
          "base_uri": "https://localhost:8080/"
        },
        "id": "9QRzs3rv7xHn",
        "outputId": "27d380f8-a11e-4692-eba3-664b7377455e"
      },
      "outputs": [
        {
          "name": "stdout",
          "output_type": "stream",
          "text": [
            "Training samples: 1280000, Test samples: 320000\n"
          ]
        }
      ],
      "source": [
        "df['clean_text'] = df['text'].apply(clean_text)\n",
        "\n",
        "X = df['clean_text']\n",
        "y = df['sentiment']\n",
        "\n",
        "X_train, X_test, y_train, y_test = train_test_split(\n",
        "    X, y, test_size=0.2, random_state=42\n",
        ")\n",
        "print(f\"Training samples: {len(X_train)}, Test samples: {len(X_test)}\")\n"
      ]
    },
    {
      "cell_type": "markdown",
      "metadata": {
        "id": "16FOQit8ESqs"
      },
      "source": [
        "\n",
        "\n",
        "---\n",
        "\n",
        "\n",
        "Step 5: Feature Extraction for ML Models\n",
        "\n",
        "---\n",
        "\n"
      ]
    },
    {
      "cell_type": "code",
      "execution_count": null,
      "metadata": {
        "id": "KG1OFh7kJb-o"
      },
      "outputs": [],
      "source": [
        "tfidf = TfidfVectorizer(max_features=5000)\n",
        "X_train_tfidf = tfidf.fit_transform(X_train)\n",
        "X_test_tfidf = tfidf.transform(X_test)\n"
      ]
    },
    {
      "cell_type": "markdown",
      "metadata": {
        "id": "jlkI7IpnFDTA"
      },
      "source": [
        "\n",
        "\n",
        "---\n",
        "\n",
        "\n",
        "Step 6: Train ML Models\n",
        "\n",
        "---\n",
        "\n"
      ]
    },
    {
      "cell_type": "markdown",
      "metadata": {
        "id": "-Um3yPE4Fe2y"
      },
      "source": [
        "**Logistic Regression**\n",
        "\n",
        "---\n",
        "\n",
        "\n",
        "What it is:\n",
        "\n",
        "- Logistic Regression is a linear model for classification.\n",
        "\n",
        "- It predicts the probability of each class (Positive, Negative, Neutral) and chooses the class with the highest probability.\n",
        "\n",
        "How it works:\n",
        "\n",
        "- Convert your text into numbers using TF-IDF (so the model can understand words as features).\n",
        "\n",
        "- Train the Logistic Regression model on your training data.\n",
        "\n",
        "- The model finds weights for each feature to best separate the classes.\n",
        "\n",
        "- Test the model on new text and check accuracy.\n",
        "\n"
      ]
    },
    {
      "cell_type": "code",
      "execution_count": null,
      "metadata": {
        "colab": {
          "base_uri": "https://localhost:8080/"
        },
        "id": "h9_aBaBwFiYN",
        "outputId": "705033e3-1ba8-412a-e1eb-e763e4cf6eb2"
      },
      "outputs": [
        {
          "name": "stdout",
          "output_type": "stream",
          "text": [
            "Logistic Regression Accuracy: 0.789859375\n",
            "              precision    recall  f1-score   support\n",
            "\n",
            "    negative       0.80      0.78      0.79    159494\n",
            "    positive       0.78      0.80      0.79    160506\n",
            "\n",
            "    accuracy                           0.79    320000\n",
            "   macro avg       0.79      0.79      0.79    320000\n",
            "weighted avg       0.79      0.79      0.79    320000\n",
            "\n"
          ]
        }
      ],
      "source": [
        "lr = LogisticRegression(max_iter=5000)\n",
        "lr.fit(X_train_tfidf, y_train)\n",
        "y_pred = lr.predict(X_test_tfidf)\n",
        "\n",
        "print(\"Logistic Regression Accuracy:\", accuracy_score(y_test, y_pred))\n",
        "print(classification_report(y_test, y_pred))\n"
      ]
    },
    {
      "cell_type": "markdown",
      "metadata": {
        "id": "1A68foTSDJuU"
      },
      "source": [
        "LinearSVC ML\n",
        "\n",
        "---\n",
        "\n",
        "What it is:\n",
        "\n",
        "- LinearSVC is also a linear classifier like Logistic Regression\n",
        "\n",
        "- But instead of probabilities, it finds a hyperplane that separates the classes with the largest margin\n",
        "\n",
        "How it works:\n",
        "\n",
        "- Convert text into numbers using TF-IDF\n",
        "\n",
        "- Train LinearSVC on the training data\n",
        "\n",
        "- The model tries to draw a line (or hyperplane in many dimensions) that separates Positive, Negative, and Neutral as clearly as possible\n",
        "\n",
        "- Test the model and check accuracy"
      ]
    },
    {
      "cell_type": "code",
      "execution_count": null,
      "metadata": {
        "colab": {
          "base_uri": "https://localhost:8080/"
        },
        "id": "z3FhmhJOBw12",
        "outputId": "7bc118a3-e9c5-473f-8f9a-b624f7904de0"
      },
      "outputs": [
        {
          "name": "stdout",
          "output_type": "stream",
          "text": [
            "SVM Accuracy: 0.789525\n",
            "              precision    recall  f1-score   support\n",
            "\n",
            "    negative       0.80      0.77      0.79    159494\n",
            "    positive       0.78      0.81      0.79    160506\n",
            "\n",
            "    accuracy                           0.79    320000\n",
            "   macro avg       0.79      0.79      0.79    320000\n",
            "weighted avg       0.79      0.79      0.79    320000\n",
            "\n"
          ]
        }
      ],
      "source": [
        "svm = LinearSVC(C=1.0, max_iter=5000)\n",
        "svm.fit(X_train_tfidf, y_train)\n",
        "y_pred = svm.predict(X_test_tfidf)\n",
        "\n",
        "print(\"SVM Accuracy:\", accuracy_score(y_test, y_pred))\n",
        "print(classification_report(y_test, y_pred))"
      ]
    },
    {
      "cell_type": "markdown",
      "metadata": {
        "id": "yMQHpQhmHPRI"
      },
      "source": [
        "\n",
        "\n",
        "---\n",
        "\n",
        "\n",
        "Step 7: Prepare Data for LSTM\n",
        "\n",
        "---\n",
        "\n"
      ]
    },
    {
      "cell_type": "code",
      "execution_count": 68,
      "metadata": {
        "id": "oirhXNK4HK47",
        "colab": {
          "base_uri": "https://localhost:8080/",
          "height": 211
        },
        "outputId": "3a693e1e-2b77-4ac7-e5f2-aaee400fec89"
      },
      "outputs": [
        {
          "output_type": "error",
          "ename": "NameError",
          "evalue": "name 'X_train' is not defined",
          "traceback": [
            "\u001b[0;31m---------------------------------------------------------------------------\u001b[0m",
            "\u001b[0;31mNameError\u001b[0m                                 Traceback (most recent call last)",
            "\u001b[0;32m/tmp/ipython-input-2222945119.py\u001b[0m in \u001b[0;36m<cell line: 0>\u001b[0;34m()\u001b[0m\n\u001b[1;32m      1\u001b[0m \u001b[0mtokenizer\u001b[0m \u001b[0;34m=\u001b[0m \u001b[0mTokenizer\u001b[0m\u001b[0;34m(\u001b[0m\u001b[0mnum_words\u001b[0m\u001b[0;34m=\u001b[0m\u001b[0;36m10000\u001b[0m\u001b[0;34m)\u001b[0m\u001b[0;34m\u001b[0m\u001b[0;34m\u001b[0m\u001b[0m\n\u001b[0;32m----> 2\u001b[0;31m \u001b[0mtokenizer\u001b[0m\u001b[0;34m.\u001b[0m\u001b[0mfit_on_texts\u001b[0m\u001b[0;34m(\u001b[0m\u001b[0mX_train\u001b[0m\u001b[0;34m)\u001b[0m\u001b[0;34m\u001b[0m\u001b[0;34m\u001b[0m\u001b[0m\n\u001b[0m\u001b[1;32m      3\u001b[0m \u001b[0;34m\u001b[0m\u001b[0m\n\u001b[1;32m      4\u001b[0m \u001b[0mX_train_seq\u001b[0m \u001b[0;34m=\u001b[0m \u001b[0mtokenizer\u001b[0m\u001b[0;34m.\u001b[0m\u001b[0mtexts_to_sequences\u001b[0m\u001b[0;34m(\u001b[0m\u001b[0mX_train\u001b[0m\u001b[0;34m)\u001b[0m\u001b[0;34m\u001b[0m\u001b[0;34m\u001b[0m\u001b[0m\n\u001b[1;32m      5\u001b[0m \u001b[0mX_test_seq\u001b[0m \u001b[0;34m=\u001b[0m \u001b[0mtokenizer\u001b[0m\u001b[0;34m.\u001b[0m\u001b[0mtexts_to_sequences\u001b[0m\u001b[0;34m(\u001b[0m\u001b[0mX_test\u001b[0m\u001b[0;34m)\u001b[0m\u001b[0;34m\u001b[0m\u001b[0;34m\u001b[0m\u001b[0m\n",
            "\u001b[0;31mNameError\u001b[0m: name 'X_train' is not defined"
          ]
        }
      ],
      "source": [
        "tokenizer = Tokenizer(num_words=10000)\n",
        "tokenizer.fit_on_texts(X_train)\n",
        "\n",
        "X_train_seq = tokenizer.texts_to_sequences(X_train)\n",
        "X_test_seq = tokenizer.texts_to_sequences(X_test)\n",
        "\n",
        "max_len = 50\n",
        "X_train_pad = pad_sequences(X_train_seq, maxlen=max_len)\n",
        "X_test_pad = pad_sequences(X_test_seq, maxlen=max_len)\n",
        "\n",
        "# Encode labels\n",
        "y_train_enc = y_train.map({'negative':0, 'positive':1}).values\n",
        "y_test_enc = y_test.map({'negative':0, 'positive':1}).values\n",
        "y_train_cat = to_categorical(y_train_enc)\n",
        "y_test_cat = to_categorical(y_test_enc)"
      ]
    },
    {
      "cell_type": "markdown",
      "metadata": {
        "id": "YRP5wERkGCSy"
      },
      "source": [
        "\n",
        "\n",
        "---\n",
        "\n",
        "\n",
        "Step 8: Build & Train LSTM\n",
        "\n",
        "---\n",
        "What it is:\n",
        "\n",
        "- LSTM is a deep learning model specifically for sequential data like text.\n",
        "\n",
        "- It can remember important words from earlier in the sentence when making predictions.\n",
        "\n",
        "Step by step explanation:\n",
        "\n",
        "- Convert text into numbers using tokenization (words become sequences of numbers).\n",
        "\n",
        "- Feed sequences into the LSTM model.\n",
        "\n",
        "- LSTM uses memory cells to capture context and patterns in text.\n",
        "\n",
        "- Output a prediction for Positive, Negative, or Neutral.\n",
        "\n"
      ]
    },
    {
      "cell_type": "code",
      "execution_count": null,
      "metadata": {
        "colab": {
          "base_uri": "https://localhost:8080/",
          "height": 433
        },
        "id": "VosrPaBoGBSC",
        "outputId": "fb7f02ac-6dc1-44d9-b5c4-dc481e5778f4"
      },
      "outputs": [
        {
          "name": "stderr",
          "output_type": "stream",
          "text": [
            "/usr/local/lib/python3.12/dist-packages/keras/src/layers/core/embedding.py:97: UserWarning: Argument `input_length` is deprecated. Just remove it.\n",
            "  warnings.warn(\n"
          ]
        },
        {
          "data": {
            "text/html": [
              "<pre style=\"white-space:pre;overflow-x:auto;line-height:normal;font-family:Menlo,'DejaVu Sans Mono',consolas,'Courier New',monospace\"><span style=\"font-weight: bold\">Model: \"sequential\"</span>\n",
              "</pre>\n"
            ],
            "text/plain": [
              "\u001b[1mModel: \"sequential\"\u001b[0m\n"
            ]
          },
          "metadata": {},
          "output_type": "display_data"
        },
        {
          "data": {
            "text/html": [
              "<pre style=\"white-space:pre;overflow-x:auto;line-height:normal;font-family:Menlo,'DejaVu Sans Mono',consolas,'Courier New',monospace\">┏━━━━━━━━━━━━━━━━━━━━━━━━━━━━━━━━━┳━━━━━━━━━━━━━━━━━━━━━━━━┳━━━━━━━━━━━━━━━┓\n",
              "┃<span style=\"font-weight: bold\"> Layer (type)                    </span>┃<span style=\"font-weight: bold\"> Output Shape           </span>┃<span style=\"font-weight: bold\">       Param # </span>┃\n",
              "┡━━━━━━━━━━━━━━━━━━━━━━━━━━━━━━━━━╇━━━━━━━━━━━━━━━━━━━━━━━━╇━━━━━━━━━━━━━━━┩\n",
              "│ embedding (<span style=\"color: #0087ff; text-decoration-color: #0087ff\">Embedding</span>)           │ ?                      │   <span style=\"color: #00af00; text-decoration-color: #00af00\">0</span> (unbuilt) │\n",
              "├─────────────────────────────────┼────────────────────────┼───────────────┤\n",
              "│ lstm (<span style=\"color: #0087ff; text-decoration-color: #0087ff\">LSTM</span>)                     │ ?                      │   <span style=\"color: #00af00; text-decoration-color: #00af00\">0</span> (unbuilt) │\n",
              "├─────────────────────────────────┼────────────────────────┼───────────────┤\n",
              "│ dropout (<span style=\"color: #0087ff; text-decoration-color: #0087ff\">Dropout</span>)               │ ?                      │             <span style=\"color: #00af00; text-decoration-color: #00af00\">0</span> │\n",
              "├─────────────────────────────────┼────────────────────────┼───────────────┤\n",
              "│ dense (<span style=\"color: #0087ff; text-decoration-color: #0087ff\">Dense</span>)                   │ ?                      │   <span style=\"color: #00af00; text-decoration-color: #00af00\">0</span> (unbuilt) │\n",
              "└─────────────────────────────────┴────────────────────────┴───────────────┘\n",
              "</pre>\n"
            ],
            "text/plain": [
              "┏━━━━━━━━━━━━━━━━━━━━━━━━━━━━━━━━━┳━━━━━━━━━━━━━━━━━━━━━━━━┳━━━━━━━━━━━━━━━┓\n",
              "┃\u001b[1m \u001b[0m\u001b[1mLayer (type)                   \u001b[0m\u001b[1m \u001b[0m┃\u001b[1m \u001b[0m\u001b[1mOutput Shape          \u001b[0m\u001b[1m \u001b[0m┃\u001b[1m \u001b[0m\u001b[1m      Param #\u001b[0m\u001b[1m \u001b[0m┃\n",
              "┡━━━━━━━━━━━━━━━━━━━━━━━━━━━━━━━━━╇━━━━━━━━━━━━━━━━━━━━━━━━╇━━━━━━━━━━━━━━━┩\n",
              "│ embedding (\u001b[38;5;33mEmbedding\u001b[0m)           │ ?                      │   \u001b[38;5;34m0\u001b[0m (unbuilt) │\n",
              "├─────────────────────────────────┼────────────────────────┼───────────────┤\n",
              "│ lstm (\u001b[38;5;33mLSTM\u001b[0m)                     │ ?                      │   \u001b[38;5;34m0\u001b[0m (unbuilt) │\n",
              "├─────────────────────────────────┼────────────────────────┼───────────────┤\n",
              "│ dropout (\u001b[38;5;33mDropout\u001b[0m)               │ ?                      │             \u001b[38;5;34m0\u001b[0m │\n",
              "├─────────────────────────────────┼────────────────────────┼───────────────┤\n",
              "│ dense (\u001b[38;5;33mDense\u001b[0m)                   │ ?                      │   \u001b[38;5;34m0\u001b[0m (unbuilt) │\n",
              "└─────────────────────────────────┴────────────────────────┴───────────────┘\n"
            ]
          },
          "metadata": {},
          "output_type": "display_data"
        },
        {
          "data": {
            "text/html": [
              "<pre style=\"white-space:pre;overflow-x:auto;line-height:normal;font-family:Menlo,'DejaVu Sans Mono',consolas,'Courier New',monospace\"><span style=\"font-weight: bold\"> Total params: </span><span style=\"color: #00af00; text-decoration-color: #00af00\">0</span> (0.00 B)\n",
              "</pre>\n"
            ],
            "text/plain": [
              "\u001b[1m Total params: \u001b[0m\u001b[38;5;34m0\u001b[0m (0.00 B)\n"
            ]
          },
          "metadata": {},
          "output_type": "display_data"
        },
        {
          "data": {
            "text/html": [
              "<pre style=\"white-space:pre;overflow-x:auto;line-height:normal;font-family:Menlo,'DejaVu Sans Mono',consolas,'Courier New',monospace\"><span style=\"font-weight: bold\"> Trainable params: </span><span style=\"color: #00af00; text-decoration-color: #00af00\">0</span> (0.00 B)\n",
              "</pre>\n"
            ],
            "text/plain": [
              "\u001b[1m Trainable params: \u001b[0m\u001b[38;5;34m0\u001b[0m (0.00 B)\n"
            ]
          },
          "metadata": {},
          "output_type": "display_data"
        },
        {
          "data": {
            "text/html": [
              "<pre style=\"white-space:pre;overflow-x:auto;line-height:normal;font-family:Menlo,'DejaVu Sans Mono',consolas,'Courier New',monospace\"><span style=\"font-weight: bold\"> Non-trainable params: </span><span style=\"color: #00af00; text-decoration-color: #00af00\">0</span> (0.00 B)\n",
              "</pre>\n"
            ],
            "text/plain": [
              "\u001b[1m Non-trainable params: \u001b[0m\u001b[38;5;34m0\u001b[0m (0.00 B)\n"
            ]
          },
          "metadata": {},
          "output_type": "display_data"
        },
        {
          "name": "stdout",
          "output_type": "stream",
          "text": [
            "Epoch 1/3\n",
            "\u001b[1m9000/9000\u001b[0m \u001b[32m━━━━━━━━━━━━━━━━━━━━\u001b[0m\u001b[37m\u001b[0m \u001b[1m1029s\u001b[0m 114ms/step - accuracy: 0.7857 - loss: 0.4538 - val_accuracy: 0.8172 - val_loss: 0.4008\n",
            "Epoch 2/3\n",
            "\u001b[1m9000/9000\u001b[0m \u001b[32m━━━━━━━━━━━━━━━━━━━━\u001b[0m\u001b[37m\u001b[0m \u001b[1m981s\u001b[0m 109ms/step - accuracy: 0.8235 - loss: 0.3913 - val_accuracy: 0.8199 - val_loss: 0.3954\n",
            "Epoch 3/3\n",
            "\u001b[1m9000/9000\u001b[0m \u001b[32m━━━━━━━━━━━━━━━━━━━━\u001b[0m\u001b[37m\u001b[0m \u001b[1m986s\u001b[0m 110ms/step - accuracy: 0.8339 - loss: 0.3714 - val_accuracy: 0.8228 - val_loss: 0.3919\n"
          ]
        },
        {
          "data": {
            "text/plain": [
              "<keras.src.callbacks.history.History at 0x796075c59ca0>"
            ]
          },
          "execution_count": 21,
          "metadata": {},
          "output_type": "execute_result"
        }
      ],
      "source": [
        "model = Sequential()\n",
        "model.add(Embedding(input_dim=10000, output_dim=128, input_length=max_len))\n",
        "model.add(LSTM(64))\n",
        "model.add(Dropout(0.5))\n",
        "model.add(Dense(2, activation='softmax'))\n",
        "\n",
        "model.compile(loss='categorical_crossentropy', optimizer='adam', metrics=['accuracy'])\n",
        "model.summary()\n",
        "\n",
        "model.fit(X_train_pad, y_train_cat, epochs=3, batch_size=128, validation_split=0.1)\n"
      ]
    },
    {
      "cell_type": "markdown",
      "source": [
        "\n",
        "\n",
        "---\n",
        "\n",
        "\n",
        "Visualization\n",
        "\n",
        "---\n",
        "\n"
      ],
      "metadata": {
        "id": "T60gf_1QETJO"
      }
    },
    {
      "cell_type": "code",
      "source": [
        "# Data\n",
        "algorithms = ['Logistic Regression', 'Linear SVC', 'LSTM']\n",
        "accuracy_scores = [0.7899*100, 0.7895*100, 0.8339*100]\n",
        "\n",
        "# Plot\n",
        "sns.set(style=\"whitegrid\")\n",
        "plt.figure(figsize=(8,5))\n",
        "barplot = sns.barplot(x=algorithms, y=accuracy_scores, palette=['#3B82F6','#22C55E','#EF4444'])\n",
        "\n",
        "# Add labels\n",
        "for i, score in enumerate(accuracy_scores):\n",
        "    barplot.text(i, score + 0.5, f'{score:.2f}%', ha='center', fontweight='bold')\n",
        "\n",
        "plt.title('Algorithm Performance Comparison', fontsize=16, fontweight='bold')\n",
        "plt.ylabel('Accuracy (%)')\n",
        "plt.ylim(0, 100)\n",
        "plt.show()\n"
      ],
      "metadata": {
        "colab": {
          "base_uri": "https://localhost:8080/",
          "height": 532
        },
        "id": "vL7lWzleEPC7",
        "outputId": "7ca2dbf4-ee97-4e2f-b339-918e22d6e3ac"
      },
      "execution_count": 66,
      "outputs": [
        {
          "output_type": "stream",
          "name": "stderr",
          "text": [
            "/tmp/ipython-input-187242383.py:8: FutureWarning: \n",
            "\n",
            "Passing `palette` without assigning `hue` is deprecated and will be removed in v0.14.0. Assign the `x` variable to `hue` and set `legend=False` for the same effect.\n",
            "\n",
            "  barplot = sns.barplot(x=algorithms, y=accuracy_scores, palette=['#3B82F6','#22C55E','#EF4444'])\n"
          ]
        },
        {
          "output_type": "display_data",
          "data": {
            "text/plain": [
              "<Figure size 800x500 with 1 Axes>"
            ],
            "image/png": "[encoded data removed]"
          },
          "metadata": {}
        }
      ]
    },
    {
      "cell_type": "markdown",
      "metadata": {
        "id": "hLV5YbpYgvoF"
      },
      "source": [
        "\n",
        "---\n",
        "\n",
        "Step 9: Save Model Process\n",
        "\n",
        "---\n",
        "\n"
      ]
    },
    {
      "cell_type": "code",
      "execution_count": 71,
      "metadata": {
        "id": "ygb5pkNlj0Tk",
        "colab": {
          "base_uri": "https://localhost:8080/"
        },
        "outputId": "84a045d4-2d18-4d51-cf70-bc3c7bde3cbe"
      },
      "outputs": [
        {
          "output_type": "stream",
          "name": "stdout",
          "text": [
            "Drive already mounted at /content/drive; to attempt to forcibly remount, call drive.mount(\"/content/drive\", force_remount=True).\n",
            "Folder created at Google Drive\n"
          ]
        }
      ],
      "source": [
        "#Mount Google Drive in Colab\n",
        "from google.colab import drive\n",
        "drive.mount('/content/drive')\n",
        "\n",
        "# Create folder inside Drive\n",
        "os.makedirs('/content/drive/MyDrive/saved_models', exist_ok=True)\n",
        "print(\"Folder created at Google Drive\")"
      ]
    },
    {
      "cell_type": "markdown",
      "metadata": {
        "id": "pZ7BS7QAHhx6"
      },
      "source": [
        "Save Model\n",
        "\n",
        "\n",
        "---\n",
        "\n",
        "Once it already saved we don't need to run this again\n"
      ]
    },
    {
      "cell_type": "code",
      "source": [
        "\n",
        "# -----------------------------\n",
        "# Save Logistic Regression\n",
        "# -----------------------------\n",
        "# Re-define and train the Logistic Regression model if not already done\n",
        "tfidf = TfidfVectorizer(max_features=5000)\n",
        "X_train_tfidf = tfidf.fit_transform(X_train)\n",
        "X_test_tfidf = tfidf.transform(X_test)\n",
        "\n",
        "lr = LogisticRegression(max_iter=5000)\n",
        "lr.fit(X_train_tfidf, y_train)\n",
        "\n",
        "joblib.dump(lr, f'{save_folder}/logistic_regression.pkl')\n",
        "print(f\"Logistic Regression saved at {save_folder}/logistic_regression.pkl\")\n",
        "\n",
        "# -----------------------------\n",
        "# Save TF-IDF Vectorizer\n",
        "# -----------------------------\n",
        "joblib.dump(tfidf, f'{save_folder}/tfidf_vectorizer.pkl')\n",
        "print(f\"TF-IDF Vectorizer saved at {save_folder}/tfidf_vectorizer.pkl\")\n",
        "\n",
        "# -----------------------------\n",
        "# Save LSTM model\n",
        "# -----------------------------\n",
        "model.save(f'{save_folder}/lstm_model_full.keras')\n",
        "print(f\"LSTM saved at {save_folder}/lstm_model_full.keras\")"
      ],
      "metadata": {
        "id": "jYonyhMOBe9D"
      },
      "execution_count": null,
      "outputs": []
    },
    {
      "cell_type": "markdown",
      "metadata": {
        "id": "v3xRWZ8-IDK6"
      },
      "source": [
        "Save preprocessing objects"
      ]
    },
    {
      "cell_type": "code",
      "execution_count": null,
      "metadata": {
        "id": "O2wiOPlnB2p0"
      },
      "outputs": [],
      "source": [
        "joblib.dump(tfidf_vectorizer, '/content/drive/MyDrive/saved_models/tfidf_vectorizer.pkl')\n",
        "with open('/content/drive/MyDrive/saved_models/lstm_tokenizer.pkl', 'wb') as f:\n",
        "    pickle.dump(tokenizer, f)\n"
      ]
    },
    {
      "cell_type": "code",
      "execution_count": null,
      "metadata": {
        "id": "QGQPlKw0B-UA"
      },
      "outputs": [],
      "source": [
        "with open('/content/drive/MyDrive/saved_models/max_len.pkl', 'wb') as f:\n",
        "    pickle.dump(MAX_LEN, f)\n"
      ]
    },
    {
      "cell_type": "markdown",
      "metadata": {
        "id": "gotI7P2huAkv"
      },
      "source": [
        "\n",
        "\n",
        "---\n",
        "\n",
        "Step 10: Load the model\n",
        "\n",
        "---\n",
        "\n"
      ]
    },
    {
      "cell_type": "code",
      "execution_count": 72,
      "metadata": {
        "id": "FTsZm-XjJmPB"
      },
      "outputs": [],
      "source": [
        "save_folder = '/content/drive/MyDrive/saved_models'\n",
        "\n",
        "# Load ML models\n",
        "lr_model = joblib.load(f'{save_folder}/logistic_regression.pkl')\n",
        "svc_model = joblib.load(f'{save_folder}/linear_svc.pkl')\n",
        "\n",
        "# Load LSTM\n",
        "lstm_model = load_model(f'{save_folder}/lstm_model_full.keras')\n",
        "\n",
        "# Load preprocessing\n",
        "tfidf_vectorizer = joblib.load(f'{save_folder}/tfidf_vectorizer.pkl')\n",
        "with open(f'{save_folder}/lstm_tokenizer.pkl', 'rb') as f:\n",
        "    tokenizer = pickle.load(f)\n",
        "\n",
        "# Load or define MAX_LEN\n",
        "try:\n",
        "    with open(f'{save_folder}/max_len.pkl', 'rb') as f:\n",
        "        MAX_LEN = pickle.load(f)\n",
        "except:\n",
        "    MAX_LEN = 50  # replace with the value used in training"
      ]
    },
    {
      "cell_type": "markdown",
      "metadata": {
        "id": "rtVDg77yIJ2X"
      },
      "source": [
        "Define a prediction function"
      ]
    },
    {
      "cell_type": "code",
      "execution_count": null,
      "metadata": {
        "id": "ehcJf6r3F5CM"
      },
      "outputs": [],
      "source": [
        "from scipy.special import softmax\n",
        "\n",
        "def predict_sentiment(text, model_type='lr'):\n",
        "    \"\"\"\n",
        "    Predict sentiment using LR, SVC, or LSTM.\n",
        "    Returns:\n",
        "        pred_label: 'Positive' or 'Negative'\n",
        "        probs_percent: list of percentages [negative, positive]\n",
        "    \"\"\"\n",
        "    if model_type == 'lr':\n",
        "        X = tfidf_vectorizer.transform([text])\n",
        "        probs = lr_model.predict_proba(X)[0]\n",
        "        pred_label = lr_model.predict(X)[0]\n",
        "\n",
        "    elif model_type == 'svc':\n",
        "        X = tfidf_vectorizer.transform([text])\n",
        "        decision = svc_model.decision_function(X)[0]\n",
        "        probs = softmax([-decision, decision])\n",
        "        pred_label = svc_model.predict(X)[0]\n",
        "\n",
        "    elif model_type == 'lstm':\n",
        "        seq = tokenizer.texts_to_sequences([text])\n",
        "        padded = pad_sequences(seq, maxlen=MAX_LEN)\n",
        "        pred = lstm_model.predict(padded)[0]  # softmax output: [negative, positive]\n",
        "        probs = pred\n",
        "        pred_label = 'Positive' if pred[1] > pred[0] else 'Negative'\n",
        "\n",
        "    else:\n",
        "        raise ValueError(\"Choose model_type as 'lr', 'svc', or 'lstm'.\")\n",
        "\n",
        "    # Convert probabilities to percentages\n",
        "    probs_percent = [f\"{p*100:.2f}%\" for p in probs]\n",
        "    return pred_label, probs_percent\n",
        "\n",
        "\n",
        "def display_sentiment_clean(text):\n",
        "    \"\"\"\n",
        "    Display all three model predictions neatly.\n",
        "    \"\"\"\n",
        "    for model_type in ['lr', 'svc', 'lstm']:\n",
        "        label, probs = predict_sentiment(text, model_type)\n",
        "        print(f\"Model: {model_type.upper()}\")\n",
        "        print(f\"Predicted Sentiment: {label}\")\n",
        "        print(f\"Confidence: Positive = {probs[1]}, Negative = {probs[0]}\")\n",
        "        print(\"-\"*50)\n",
        "\n",
        "\n"
      ]
    },
    {
      "cell_type": "markdown",
      "metadata": {
        "id": "Ou-GlHGIIOsF"
      },
      "source": [
        "Demo text"
      ]
    },
    {
      "cell_type": "code",
      "execution_count": null,
      "metadata": {
        "id": "Y14uVn6DF87C"
      },
      "outputs": [],
      "source": [
        "# Get input from user\n",
        "text = input(\"Enter a sentence: \")\n",
        "\n",
        "# Display all models neatly\n",
        "display_sentiment_clean(text)\n"
      ]
    }
  ],
  "metadata": {
    "colab": {
      "provenance": []
    },
    "kernelspec": {
      "display_name": "Python 3",
      "name": "python3"
    },
    "language_info": {
      "name": "python"
    }
  },
  "nbformat": 4,
  "nbformat_minor": 0
}